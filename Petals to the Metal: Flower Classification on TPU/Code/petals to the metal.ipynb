# Preparation

# Import functions first
import math, re, os
import numpy as np
import tensorflow as tf

print("Tensorflow version: " + tf.__version__)
